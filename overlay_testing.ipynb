{
 "cells": [
  {
   "cell_type": "code",
   "execution_count": 2,
   "metadata": {},
   "outputs": [
    {
     "ename": "",
     "evalue": "",
     "output_type": "error",
     "traceback": [
      "\u001b[1;31mThe Kernel crashed while executing code in the current cell or a previous cell. \n",
      "\u001b[1;31mPlease review the code in the cell(s) to identify a possible cause of the failure. \n",
      "\u001b[1;31mClick <a href='https://aka.ms/vscodeJupyterKernelCrash'>here</a> for more info. \n",
      "\u001b[1;31mView Jupyter <a href='command:jupyter.viewOutput'>log</a> for further details."
     ]
    }
   ],
   "source": [
    "import tkinter as tk\n",
    "import customtkinter as ctk\n",
    "\n",
    "def close_window():\n",
    "    root.destroy()\n",
    "\n",
    "root = tk.Tk()\n",
    "root.attributes('-fullscreen', True)  # Fullscreen\n",
    "root.attributes('-alpha', 0.5)  # Transparency level (0.0 fully transparent, 1.0 opaque)\n",
    "root.overrideredirect(True)  # Remove title bar\n",
    "\n",
    "# Create a frame to hold the button\n",
    "frame = tk.Frame(root)\n",
    "frame.place(relx=0.5, rely=0.5, anchor='center')  # Place frame in the center of the window\n",
    "\n",
    "# Create a button in the frame\n",
    "button = ctk.CTkButton(\n",
    "    master=frame,\n",
    "    text=\"Close\",\n",
    "    command=close_window,\n",
    "    corner_radius=10\n",
    ")\n",
    "button.pack()\n",
    "\n",
    "root.mainloop()"
   ]
  }
 ],
 "metadata": {
  "kernelspec": {
   "display_name": "myvenv",
   "language": "python",
   "name": "python3"
  },
  "language_info": {
   "codemirror_mode": {
    "name": "ipython",
    "version": 3
   },
   "file_extension": ".py",
   "mimetype": "text/x-python",
   "name": "python",
   "nbconvert_exporter": "python",
   "pygments_lexer": "ipython3",
   "version": "3.10.9"
  }
 },
 "nbformat": 4,
 "nbformat_minor": 2
}
