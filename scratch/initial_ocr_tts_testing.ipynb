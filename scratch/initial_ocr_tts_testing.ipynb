{
 "cells": [
  {
   "cell_type": "code",
   "execution_count": 12,
   "metadata": {},
   "outputs": [],
   "source": [
    "import pytesseract as pt\n",
    "import easyocr\n",
    "import cv2\n",
    "import yaml\n",
    "\n",
    "from PIL import Image, ImageEnhance\n",
    "import platform\n",
    "\n",
    "from gtts import gTTS\n",
    "\n",
    "import azure.cognitiveservices.speech as speechsdk\n",
    "import json\n"
   ]
  },
  {
   "cell_type": "code",
   "execution_count": 5,
   "metadata": {},
   "outputs": [],
   "source": [
    "# Open an image file\n",
    "with Image.open('../text_images/pfkm-6.png') as img:\n",
    "    # Create an ImageEnhance.Contrast object\n",
    "    enhancer = ImageEnhance.Contrast(img)\n",
    "    \n",
    "    # Increase the contrast of the image\n",
    "    img_edit = enhancer.enhance(0.8)  # Increase contrast. The factor 2.0 means that the contrast will be doubled.\n",
    "    \n",
    "    # Save the edited image\n",
    "    img_edit.save('../text_images/pfkm-6-enh.png')"
   ]
  },
  {
   "cell_type": "code",
   "execution_count": 6,
   "metadata": {},
   "outputs": [],
   "source": [
    "image_file = '../text_images/pfkm-6.png'"
   ]
  },
  {
   "cell_type": "markdown",
   "metadata": {},
   "source": [
    "### Tesseract"
   ]
  },
  {
   "cell_type": "code",
   "execution_count": 7,
   "metadata": {},
   "outputs": [],
   "source": [
    "if platform.system() == 'Darwin':  # macOS\n",
    "    pt.pytesseract.tesseract_cmd = r'/opt/homebrew/Cellar/tesseract/5.3.4/bin/tesseract'\n",
    "elif platform.system() == 'Windows':\n",
    "    pt.pytesseract.tesseract_cmd = r\"C:/Program Files/Tesseract-OCR/tesseract.exe\"\n",
    "else:\n",
    "    print('Operating system not supported')"
   ]
  },
  {
   "cell_type": "code",
   "execution_count": 8,
   "metadata": {},
   "outputs": [
    {
     "name": "stdout",
     "output_type": "stream",
     "text": [
      "Anevia: \"I lay low in the temple for the next few years, kept my head down. I washed floors, fetched water,\n",
      "listened to sermons. Funny thing, after a while I started liking Desna's teachings. But as soon as I was old\n",
      "enough, I was outta there — I left Nidal and got as far away as I could.\"\n",
      "1. \"Where are you from?\"\n",
      ". \"Quite a ragtag group you've got here — from nobles to street thieves!\"\n",
      ". \"How did you meet Irabeth?\"\n",
      ". \"How did you and Irabeth end up in Kenabres?\"\n",
      ". \"What is it like, living with Irabeth?\"\n",
      ". \"Thank you for your answ:\n",
      "\n",
      "anv fF Wb\n",
      "\n",
      "\n"
     ]
    }
   ],
   "source": [
    "# get text from image - pytesseract\n",
    "image = Image.open(image_file)\n",
    "text = pt.image_to_string(image)\n",
    "# boxes = pt.image_to_boxes(image)\n",
    "data = pt.image_to_data(image, output_type=pt.Output.DICT)\n",
    "osd = pt.image_to_osd(image, output_type=pt.Output.DICT)\n",
    "print(text)"
   ]
  },
  {
   "cell_type": "code",
   "execution_count": 16,
   "metadata": {},
   "outputs": [
    {
     "name": "stdout",
     "output_type": "stream",
     "text": [
      "{'page_num': 0, 'orientation': 0, 'rotate': 0, 'orientation_conf': 16.69, 'script': 'Latin', 'script_conf': 2.68}\n"
     ]
    }
   ],
   "source": [
    "print(osd)"
   ]
  },
  {
   "cell_type": "code",
   "execution_count": 35,
   "metadata": {},
   "outputs": [
    {
     "data": {
      "text/plain": [
       "-1"
      ]
     },
     "execution_count": 35,
     "metadata": {},
     "output_type": "execute_result"
    }
   ],
   "source": [
    "img = cv2.imread(image_file)\n",
    "n_boxes = len(data['text'])\n",
    "for i in range(n_boxes):\n",
    "    if int(data['conf'][i]) > 60:\n",
    "        (x, y, w, h) = (data['left'][i], data['top'][i], data['width'][i], data['height'][i])\n",
    "        img = cv2.rectangle(img, (x, y), (x + w, y + h), (0, 255, 0), 2)\n",
    "\n",
    "cv2.imshow('img', img)\n",
    "cv2.waitKey(0)"
   ]
  },
  {
   "cell_type": "markdown",
   "metadata": {},
   "source": [
    "### EasyOCR"
   ]
  },
  {
   "cell_type": "code",
   "execution_count": 12,
   "metadata": {},
   "outputs": [
    {
     "name": "stderr",
     "output_type": "stream",
     "text": [
      "Neither CUDA nor MPS are available - defaulting to CPU. Note: This module is much faster with a GPU.\n"
     ]
    }
   ],
   "source": [
    "# get text from image - easyocr\n",
    "\n",
    "reader = easyocr.Reader(['en'])\n"
   ]
  },
  {
   "cell_type": "code",
   "execution_count": 13,
   "metadata": {},
   "outputs": [],
   "source": [
    "result = reader.readtext(image_file, detail=0, paragraph=True)"
   ]
  },
  {
   "cell_type": "code",
   "execution_count": 14,
   "metadata": {},
   "outputs": [
    {
     "data": {
      "text/plain": [
       "['Anevia: \"I\\'m from Nidal. And I wouldn wish my homeland on my worst enemy: You\\'ve heard of the place, Im sure. Ruled by monsters that aren\\'t alive nor dead, and the official religion is the cult of Zon-Kuthon. grew up in a slum, like a weed between the cobblestones_ I didn\\'t have a dad; but I had lots of aunts and uncles_ my mom cronies. No prize for guessing the kind of business she was involved in. They gave me set of lockpicks as soon as [ could hold a spoon, and while other kids were picking their noses, was picking pockets:',\n",
       " 'sc',\n",
       " 'OeaHot',\n",
       " 'KERN',\n",
       " 'CONTINUE',\n",
       " 'ANEVIA',\n",
       " '138']"
      ]
     },
     "execution_count": 14,
     "metadata": {},
     "output_type": "execute_result"
    }
   ],
   "source": [
    "result"
   ]
  },
  {
   "cell_type": "markdown",
   "metadata": {},
   "source": [
    "### OCRopus"
   ]
  },
  {
   "cell_type": "code",
   "execution_count": null,
   "metadata": {},
   "outputs": [],
   "source": []
  },
  {
   "cell_type": "markdown",
   "metadata": {},
   "source": [
    "### Craft text detector"
   ]
  },
  {
   "cell_type": "code",
   "execution_count": null,
   "metadata": {},
   "outputs": [],
   "source": []
  },
  {
   "cell_type": "markdown",
   "metadata": {},
   "source": [
    "### PaddleOCR"
   ]
  },
  {
   "cell_type": "code",
   "execution_count": null,
   "metadata": {},
   "outputs": [],
   "source": []
  },
  {
   "cell_type": "markdown",
   "metadata": {},
   "source": [
    "# Google TTS (gTTS) library"
   ]
  },
  {
   "cell_type": "code",
   "execution_count": 14,
   "metadata": {},
   "outputs": [],
   "source": [
    "# convert text to speech - gTTS\n",
    "tts = gTTS(text, lang='en')\n",
    "tts.save('../audio_output/gtts-pfkm-6.mp3')"
   ]
  },
  {
   "cell_type": "markdown",
   "metadata": {},
   "source": [
    "# Azure AI Speech SDK TTS"
   ]
  },
  {
   "cell_type": "code",
   "execution_count": 9,
   "metadata": {},
   "outputs": [
    {
     "name": "stdout",
     "output_type": "stream",
     "text": [
      "Anevia: \"I lay low in the temple for the next few years, kept my head down. I washed floors, fetched water, listened to sermons. Funny thing, after a while I started liking Desna's teachings. But as soon as I was old enough, I was outta there — I left Nidal and got as far away as I could.\" 1. \"Where are you from?\" . \"Quite a ragtag group you've got here — from nobles to street thieves!\" . \"How did you meet Irabeth?\" . \"How did you and Irabeth end up in Kenabres?\" . \"What is it like, living with Irabeth?\" . \"Thank you for your answ:  anv fF Wb  \n"
     ]
    }
   ],
   "source": [
    "text = text.replace('\\n', ' ')\n",
    "print(text)"
   ]
  },
  {
   "cell_type": "code",
   "execution_count": 10,
   "metadata": {},
   "outputs": [],
   "source": [
    "with open('../configs/secrets.yaml', 'r') as file:\n",
    "    secrets = yaml.safe_load(file)"
   ]
  },
  {
   "cell_type": "code",
   "execution_count": 11,
   "metadata": {},
   "outputs": [
    {
     "name": "stdout",
     "output_type": "stream",
     "text": [
      "Speech synthesized for text [Anevia: \"I lay low in the temple for the next few years, kept my head down. I washed floors, fetched water, listened to sermons. Funny thing, after a while I started liking Desna's teachings. But as soon as I was old enough, I was outta there — I left Nidal and got as far away as I could.\" 1. \"Where are you from?\" . \"Quite a ragtag group you've got here — from nobles to street thieves!\" . \"How did you meet Irabeth?\" . \"How did you and Irabeth end up in Kenabres?\" . \"What is it like, living with Irabeth?\" . \"Thank you for your answ:  anv fF Wb  ]\n"
     ]
    }
   ],
   "source": [
    "# convert text to speech - Azure AI Speech\n",
    "\n",
    "# Creates an instance of a speech config with specified subscription key and service region.\n",
    "speech_key = secrets['azure']['subscription_key']\n",
    "service_region = secrets['azure']['service_region']\n",
    "\n",
    "speech_config = speechsdk.SpeechConfig(subscription=speech_key, region=service_region)\n",
    "# Note: the voice setting will not overwrite the voice element in input SSML.\n",
    "speech_config.speech_synthesis_voice_name = \"en-GB-RyanNeural\"\n",
    "\n",
    "audio_config = speechsdk.audio.AudioOutputConfig(filename=\"../audio_output/ai-pfkm-6.wav\")\n",
    "\n",
    "# use the default speaker as audio output.\n",
    "speech_synthesizer = speechsdk.SpeechSynthesizer(speech_config=speech_config, audio_config=audio_config)\n",
    "\n",
    "result = speech_synthesizer.speak_text_async(text).get()\n",
    "# Check result\n",
    "if result.reason == speechsdk.ResultReason.SynthesizingAudioCompleted:\n",
    "    print(\"Speech synthesized for text [{}]\".format(text))\n",
    "elif result.reason == speechsdk.ResultReason.Canceled:\n",
    "    cancellation_details = result.cancellation_details\n",
    "    print(\"Speech synthesis canceled: {}\".format(cancellation_details.reason))\n",
    "    if cancellation_details.reason == speechsdk.CancellationReason.Error:\n",
    "        print(\"Error details: {}\".format(cancellation_details.error_details))\n",
    "\n"
   ]
  },
  {
   "cell_type": "code",
   "execution_count": 30,
   "metadata": {},
   "outputs": [
    {
     "name": "stdout",
     "output_type": "stream",
     "text": [
      "Audio saved to 'output_audio.wav'.\n"
     ]
    }
   ],
   "source": [
    "# API version\n",
    "\n",
    "import requests\n",
    "import json\n",
    "\n",
    "subscription_key = secrets['azure']['subscription_key']\n",
    "service_region = secrets['azure']['service_region']\n",
    "tts_service_url = f'https://{service_region}.tts.speech.microsoft.com/cognitiveservices/v1'\n",
    "\n",
    "fetch_token_url = f'https://{service_region}.api.cognitive.microsoft.com/sts/v1.0/issueToken'\n",
    "\n",
    "headers = {\n",
    "    'Ocp-Apim-Subscription-Key': subscription_key,\n",
    "    'Content-Type': 'application/ssml+xml',\n",
    "    'X-Microsoft-OutputFormat': 'riff-24khz-16bit-mono-pcm'\n",
    "}\n",
    "\n",
    "token_response = requests.post(fetch_token_url, headers={'Ocp-Apim-Subscription-Key': subscription_key})\n",
    "access_token = str(token_response.text)\n",
    "\n",
    "# Update the headers to use the token\n",
    "headers = {\n",
    "    'Authorization': 'Bearer ' + access_token,\n",
    "    'Content-Type': 'application/ssml+xml',\n",
    "    'X-Microsoft-OutputFormat': 'riff-24khz-16bit-mono-pcm'\n",
    "}\n",
    "\n",
    "ssml_text = f\"\"\"\n",
    "<speak version='1.0' xmlns='http://www.w3.org/2001/10/synthesis' xml:lang='en-US'>\n",
    "    <voice name='en-US-AriaNeural'>Hello friend. We are going on an adventure. Buckle up!</voice>\n",
    "</speak>\n",
    "\"\"\"\n",
    "\n",
    "\n",
    "response = requests.post(tts_service_url, headers=headers, data=ssml_text)\n",
    "\n",
    "if response.status_code == 200:\n",
    "    with open('../audio_output/output_audio.wav', 'wb') as audio_file:\n",
    "        audio_file.write(response.content)\n",
    "    print(\"Audio saved to 'output_audio.wav'.\")\n",
    "else:\n",
    "    print(f\"Error: {response.status_code} - {response.reason}\")\n"
   ]
  }
 ],
 "metadata": {
  "kernelspec": {
   "display_name": "gametext-to-speech",
   "language": "python",
   "name": "python3"
  },
  "language_info": {
   "codemirror_mode": {
    "name": "ipython",
    "version": 3
   },
   "file_extension": ".py",
   "mimetype": "text/x-python",
   "name": "python",
   "nbconvert_exporter": "python",
   "pygments_lexer": "ipython3",
   "version": "3.12.2"
  }
 },
 "nbformat": 4,
 "nbformat_minor": 2
}
