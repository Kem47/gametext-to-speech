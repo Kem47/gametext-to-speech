{
 "cells": [
  {
   "cell_type": "code",
   "execution_count": 6,
   "metadata": {},
   "outputs": [],
   "source": [
    "import pytesseract as pt\n",
    "from PIL import Image\n",
    "import platform\n",
    "\n",
    "# from gtts import gTTS\n",
    "\n",
    "import torch\n",
    "import azure.cognitiveservices.speech as speechsdk\n",
    "import json\n"
   ]
  },
  {
   "cell_type": "code",
   "execution_count": 7,
   "metadata": {},
   "outputs": [],
   "source": [
    "if platform.system() == 'Darwin':  # macOS\n",
    "    pt.pytesseract.tesseract_cmd = r'/opt/homebrew/Cellar/tesseract/5.3.4/bin/tesseract'\n",
    "elif platform.system() == 'Windows':\n",
    "    # Add your Windows-specific code here\n",
    "    pass\n",
    "else:\n",
    "    print('Operating system not supported')"
   ]
  },
  {
   "cell_type": "code",
   "execution_count": 11,
   "metadata": {},
   "outputs": [
    {
     "name": "stdout",
     "output_type": "stream",
     "text": [
      "Anoriel Eight Eyes: \"Alright, alright. This here is Scatvi, the daughter of my late friend Voltar... She's a cleric\n",
      "of Abadar, just like her father. The man with the bow is Ellert. He's a silent type. The Lash is a bard. He can\n",
      "whip you to tears with his words, hence the nickname. Finally, the Crimson Fury specializes in decapitating\n",
      "anyone who isn't quick enough to hide from her. All four stand ready to dispatch a few dozen fey. Just say the\n",
      "word.\"\n",
      "\n",
      "1. \"need loyal and experienced fighters.\"\n",
      "2. \"I'd like to use the tutor services of the Pathfinder Society.\"\n",
      "3. \"How did you end up here?\"\n",
      "+ 4. \"I need your people's help.Scatvi, Ellert, Lash, Crimson Fury — I'd like to welcome you to my party.\"\n",
      "5. \"I have to go. Thank you, Anoriel.\"\n",
      "\n",
      "\n"
     ]
    }
   ],
   "source": [
    "# get text from image\n",
    "image = Image.open('text_images/pf-km-4.jpg')\n",
    "text = pt.image_to_string(image)\n",
    "print(text)"
   ]
  },
  {
   "cell_type": "code",
   "execution_count": 12,
   "metadata": {},
   "outputs": [
    {
     "name": "stdout",
     "output_type": "stream",
     "text": [
      "Anoriel Eight Eyes: \"Alright, alright. This here is Scatvi, the daughter of my late friend Voltar... She's a cleric of Abadar, just like her father. The man with the bow is Ellert. He's a silent type. The Lash is a bard. He can whip you to tears with his words, hence the nickname. Finally, the Crimson Fury specializes in decapitating anyone who isn't quick enough to hide from her. All four stand ready to dispatch a few dozen fey. Just say the word.\"  1. \"need loyal and experienced fighters.\" 2. \"I'd like to use the tutor services of the Pathfinder Society.\" 3. \"How did you end up here?\" + 4. \"I need your people's help.Scatvi, Ellert, Lash, Crimson Fury — I'd like to welcome you to my party.\" 5. \"I have to go. Thank you, Anoriel.\"  \n"
     ]
    }
   ],
   "source": [
    "text = text.replace('\\n', ' ')\n",
    "print(text)"
   ]
  },
  {
   "cell_type": "code",
   "execution_count": 19,
   "metadata": {},
   "outputs": [
    {
     "name": "stdout",
     "output_type": "stream",
     "text": [
      "Speech synthesized for text [Anoriel Eight Eyes: \"Alright, alright. This here is Scatvi, the daughter of my late friend Voltar... She's a cleric of Abadar, just like her father. The man with the bow is Ellert. He's a silent type. The Lash is a bard. He can whip you to tears with his words, hence the nickname. Finally, the Crimson Fury specializes in decapitating anyone who isn't quick enough to hide from her. All four stand ready to dispatch a few dozen fey. Just say the word.\"  1. \"need loyal and experienced fighters.\" 2. \"I'd like to use the tutor services of the Pathfinder Society.\" 3. \"How did you end up here?\" + 4. \"I need your people's help.Scatvi, Ellert, Lash, Crimson Fury — I'd like to welcome you to my party.\" 5. \"I have to go. Thank you, Anoriel.\"  ]\n"
     ]
    }
   ],
   "source": [
    "# convert text to speech - Azure AI Speech\n",
    "\n",
    "# Creates an instance of a speech config with specified subscription key and service region.\n",
    "speech_key = \"7fe46879808446f092f8ad2eac44b746\"\n",
    "service_region = \"uksouth\"\n",
    "\n",
    "speech_config = speechsdk.SpeechConfig(subscription=speech_key, region=service_region)\n",
    "# Note: the voice setting will not overwrite the voice element in input SSML.\n",
    "speech_config.speech_synthesis_voice_name = \"en-GB-RyanNeural\"\n",
    "\n",
    "audio_config = speechsdk.audio.AudioOutputConfig(filename=\"audio_output/ai-pf-km-4.wav\")\n",
    "\n",
    "# use the default speaker as audio output.\n",
    "speech_synthesizer = speechsdk.SpeechSynthesizer(speech_config=speech_config, audio_config=audio_config)\n",
    "\n",
    "result = speech_synthesizer.speak_text_async(text).get()\n",
    "# Check result\n",
    "if result.reason == speechsdk.ResultReason.SynthesizingAudioCompleted:\n",
    "    print(\"Speech synthesized for text [{}]\".format(text))\n",
    "elif result.reason == speechsdk.ResultReason.Canceled:\n",
    "    cancellation_details = result.cancellation_details\n",
    "    print(\"Speech synthesis canceled: {}\".format(cancellation_details.reason))\n",
    "    if cancellation_details.reason == speechsdk.CancellationReason.Error:\n",
    "        print(\"Error details: {}\".format(cancellation_details.error_details))\n",
    "\n"
   ]
  },
  {
   "cell_type": "code",
   "execution_count": null,
   "metadata": {},
   "outputs": [
    {
     "ename": "NameError",
     "evalue": "name 'gTTS' is not defined",
     "output_type": "error",
     "traceback": [
      "\u001b[0;31m---------------------------------------------------------------------------\u001b[0m",
      "\u001b[0;31mNameError\u001b[0m                                 Traceback (most recent call last)",
      "Cell \u001b[0;32mIn[4], line 2\u001b[0m\n\u001b[1;32m      1\u001b[0m \u001b[38;5;66;03m# convert text to speech - gTTS\u001b[39;00m\n\u001b[0;32m----> 2\u001b[0m tts \u001b[38;5;241m=\u001b[39m \u001b[43mgTTS\u001b[49m(text, lang\u001b[38;5;241m=\u001b[39m\u001b[38;5;124m'\u001b[39m\u001b[38;5;124men\u001b[39m\u001b[38;5;124m'\u001b[39m)\n\u001b[1;32m      3\u001b[0m tts\u001b[38;5;241m.\u001b[39msave(\u001b[38;5;124m'\u001b[39m\u001b[38;5;124maudio_output/gtts-pf-km-4.mp3\u001b[39m\u001b[38;5;124m'\u001b[39m)\n",
      "\u001b[0;31mNameError\u001b[0m: name 'gTTS' is not defined"
     ]
    }
   ],
   "source": [
    "# convert text to speech - gTTS\n",
    "# tts = gTTS(text, lang='en')\n",
    "# tts.save('audio_output/gtts-pf-km-4.mp3')"
   ]
  },
  {
   "cell_type": "code",
   "execution_count": 30,
   "metadata": {},
   "outputs": [
    {
     "name": "stdout",
     "output_type": "stream",
     "text": [
      "Audio saved to 'output_audio.wav'.\n"
     ]
    }
   ],
   "source": [
    "# API version\n",
    "\n",
    "import requests\n",
    "import json\n",
    "\n",
    "subscription_key = \"7fe46879808446f092f8ad2eac44b746\"\n",
    "service_region = \"uksouth\"\n",
    "tts_service_url = f'https://{service_region}.tts.speech.microsoft.com/cognitiveservices/v1'\n",
    "\n",
    "fetch_token_url = f'https://{service_region}.api.cognitive.microsoft.com/sts/v1.0/issueToken'\n",
    "\n",
    "headers = {\n",
    "    'Ocp-Apim-Subscription-Key': subscription_key,\n",
    "    'Content-Type': 'application/ssml+xml',\n",
    "    'X-Microsoft-OutputFormat': 'riff-24khz-16bit-mono-pcm'\n",
    "}\n",
    "\n",
    "token_response = requests.post(fetch_token_url, headers={'Ocp-Apim-Subscription-Key': subscription_key})\n",
    "access_token = str(token_response.text)\n",
    "\n",
    "# Update the headers to use the token\n",
    "headers = {\n",
    "    'Authorization': 'Bearer ' + access_token,\n",
    "    'Content-Type': 'application/ssml+xml',\n",
    "    'X-Microsoft-OutputFormat': 'riff-24khz-16bit-mono-pcm'\n",
    "}\n",
    "\n",
    "ssml_text = f\"\"\"\n",
    "<speak version='1.0' xmlns='http://www.w3.org/2001/10/synthesis' xml:lang='en-US'>\n",
    "    <voice name='en-US-AriaNeural'>Hello friend. We are going on an adventure. Buckle up!</voice>\n",
    "</speak>\n",
    "\"\"\"\n",
    "\n",
    "\n",
    "response = requests.post(tts_service_url, headers=headers, data=ssml_text)\n",
    "\n",
    "if response.status_code == 200:\n",
    "    with open('audio_output/output_audio.wav', 'wb') as audio_file:\n",
    "        audio_file.write(response.content)\n",
    "    print(\"Audio saved to 'output_audio.wav'.\")\n",
    "else:\n",
    "    print(f\"Error: {response.status_code} - {response.reason}\")\n"
   ]
  }
 ],
 "metadata": {
  "kernelspec": {
   "display_name": "gametext-to-speech",
   "language": "python",
   "name": "python3"
  },
  "language_info": {
   "codemirror_mode": {
    "name": "ipython",
    "version": 3
   },
   "file_extension": ".py",
   "mimetype": "text/x-python",
   "name": "python",
   "nbconvert_exporter": "python",
   "pygments_lexer": "ipython3",
   "version": "3.10.9"
  }
 },
 "nbformat": 4,
 "nbformat_minor": 2
}
